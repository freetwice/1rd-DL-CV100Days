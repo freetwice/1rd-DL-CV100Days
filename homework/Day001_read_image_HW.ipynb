{
 "cells": [
  {
   "cell_type": "markdown",
   "metadata": {},
   "source": [
    "# 作業\n",
    "\n",
    "思考一下我們前面有提到圖片是矩陣，但維度可能會不一樣\n",
    "例如灰階圖只有兩個維度，RGB 彩圖則有 3 個維度\n",
    "\n",
    "假如今天我們把 RGB 3 個維度拆開來看會有甚麼不同的效果呢？"
   ]
  },
  {
   "cell_type": "code",
   "execution_count": 5,
   "metadata": {},
   "outputs": [],
   "source": [
    "import cv2\n",
    "\n",
    "img_path = 'C:/Users/freet/Documents/1rd-DL&CV100Day/part1_basic image address/Day01/Part01/Part01/lena.png'\n",
    "\n",
    "# 以預設三原色載入\n",
    "img = cv2.imread(img_path, cv2.IMREAD_COLOR)\n",
    "img_b = img[...,0]\n",
    "img_g = img[...,1]\n",
    "img_r = img[...,2]"
   ]
  },
  {
   "cell_type": "code",
   "execution_count": 6,
   "metadata": {},
   "outputs": [],
   "source": [
    "while True:\n",
    "    cv2.imshow('Image', img)\n",
    "    cv2.imshow('B', img_b)\n",
    "    cv2.imshow('G', img_g)\n",
    "    cv2.imshow('R', img_r)\n",
    "    \n",
    "    #直到按下ESC鍵才會自動關閉視窗\n",
    "    k = cv2.waitKey(0)\n",
    "    if k ==27:\n",
    "        cv2.destroyAllWindows()\n",
    "        break"
   ]
  }
 ],
 "metadata": {
  "kernelspec": {
   "display_name": "Python 3",
   "language": "python",
   "name": "python3"
  },
  "language_info": {
   "codemirror_mode": {
    "name": "ipython",
    "version": 3
   },
   "file_extension": ".py",
   "mimetype": "text/x-python",
   "name": "python",
   "nbconvert_exporter": "python",
   "pygments_lexer": "ipython3",
   "version": "3.5.6"
  }
 },
 "nbformat": 4,
 "nbformat_minor": 2
}
